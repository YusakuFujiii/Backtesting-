{
 "cells": [
  {
   "cell_type": "code",
   "execution_count": 6,
   "id": "5d7a4cda",
   "metadata": {},
   "outputs": [],
   "source": [
    "import numpy as np\n",
    "import pandas as pd"
   ]
  },
  {
   "cell_type": "code",
   "execution_count": 1,
   "id": "d953b75d",
   "metadata": {},
   "outputs": [],
   "source": [
    "def backtest(df,side,period,exit_date):\n",
    "    \n",
    "    '''\n",
    "    input\n",
    "    -side: y_pred_buy_by_pcv or y_pred_sell_by_pcv\n",
    "    -period: How many trading periods you hold a position\n",
    "    -exit_date: buy_exit_date or sell_exit_date\n",
    "    \n",
    "    out\n",
    "    -ret_realized_ind: A list containing the indicies where we could exit within a \n",
    "                      holding period\n",
    "    '''\n",
    "    ret_realized_ind=[]\n",
    "    for n,(i,v) in enumerate(df[df[side] > 0][exit_date].iteritems()):\n",
    "        \n",
    "        if df[df[side] > 0].index[-2]==i:\n",
    "            break\n",
    "\n",
    "        elif df[df[side] > 0].index[n+period]>v:\n",
    "            ret_realized_ind.append(i)\n",
    "            \n",
    "            \n",
    "    return ret_realized_ind"
   ]
  },
  {
   "cell_type": "code",
   "execution_count": 4,
   "id": "8ba8d06d",
   "metadata": {},
   "outputs": [
    {
     "data": {
      "text/html": [
       "<div>\n",
       "<style scoped>\n",
       "    .dataframe tbody tr th:only-of-type {\n",
       "        vertical-align: middle;\n",
       "    }\n",
       "\n",
       "    .dataframe tbody tr th {\n",
       "        vertical-align: top;\n",
       "    }\n",
       "\n",
       "    .dataframe thead th {\n",
       "        text-align: right;\n",
       "    }\n",
       "</style>\n",
       "<table border=\"1\" class=\"dataframe\">\n",
       "  <thead>\n",
       "    <tr style=\"text-align: right;\">\n",
       "      <th></th>\n",
       "      <th>buy_exit_date</th>\n",
       "      <th>y_pred_buy_by_pcv</th>\n",
       "      <th>y_buy</th>\n",
       "    </tr>\n",
       "    <tr>\n",
       "      <th>timestamp</th>\n",
       "      <th></th>\n",
       "      <th></th>\n",
       "      <th></th>\n",
       "    </tr>\n",
       "  </thead>\n",
       "  <tbody>\n",
       "    <tr>\n",
       "      <th>2021-02-23 05:50:00</th>\n",
       "      <td>2021-02-23 06:35:00</td>\n",
       "      <td>0.002672</td>\n",
       "      <td>0.010622</td>\n",
       "    </tr>\n",
       "    <tr>\n",
       "      <th>2021-02-23 06:20:00</th>\n",
       "      <td>2021-02-23 07:05:00</td>\n",
       "      <td>-0.001554</td>\n",
       "      <td>-0.012327</td>\n",
       "    </tr>\n",
       "    <tr>\n",
       "      <th>2021-02-23 06:35:00</th>\n",
       "      <td>2021-02-23 07:35:00</td>\n",
       "      <td>-0.002941</td>\n",
       "      <td>0.010303</td>\n",
       "    </tr>\n",
       "    <tr>\n",
       "      <th>2021-02-23 07:05:00</th>\n",
       "      <td>2021-02-23 07:35:00</td>\n",
       "      <td>-0.000994</td>\n",
       "      <td>0.000000</td>\n",
       "    </tr>\n",
       "    <tr>\n",
       "      <th>2021-02-23 07:35:00</th>\n",
       "      <td>2021-02-23 08:05:00</td>\n",
       "      <td>0.000015</td>\n",
       "      <td>-0.017285</td>\n",
       "    </tr>\n",
       "    <tr>\n",
       "      <th>...</th>\n",
       "      <td>...</td>\n",
       "      <td>...</td>\n",
       "      <td>...</td>\n",
       "    </tr>\n",
       "    <tr>\n",
       "      <th>2022-06-16 00:20:00</th>\n",
       "      <td>2022-06-16 00:35:00</td>\n",
       "      <td>0.001498</td>\n",
       "      <td>0.000000</td>\n",
       "    </tr>\n",
       "    <tr>\n",
       "      <th>2022-06-16 00:35:00</th>\n",
       "      <td>2022-06-16 01:05:00</td>\n",
       "      <td>0.001825</td>\n",
       "      <td>0.000000</td>\n",
       "    </tr>\n",
       "    <tr>\n",
       "      <th>2022-06-16 01:05:00</th>\n",
       "      <td>2022-06-16 01:20:00</td>\n",
       "      <td>-0.000897</td>\n",
       "      <td>0.000000</td>\n",
       "    </tr>\n",
       "    <tr>\n",
       "      <th>2022-06-16 01:20:00</th>\n",
       "      <td>2022-06-16 01:50:00</td>\n",
       "      <td>-0.002697</td>\n",
       "      <td>0.000000</td>\n",
       "    </tr>\n",
       "    <tr>\n",
       "      <th>2022-06-16 01:50:00</th>\n",
       "      <td>NaT</td>\n",
       "      <td>NaN</td>\n",
       "      <td>0.000000</td>\n",
       "    </tr>\n",
       "  </tbody>\n",
       "</table>\n",
       "<p>20364 rows × 3 columns</p>\n",
       "</div>"
      ],
      "text/plain": [
       "                          buy_exit_date  y_pred_buy_by_pcv     y_buy\n",
       "timestamp                                                           \n",
       "2021-02-23 05:50:00 2021-02-23 06:35:00           0.002672  0.010622\n",
       "2021-02-23 06:20:00 2021-02-23 07:05:00          -0.001554 -0.012327\n",
       "2021-02-23 06:35:00 2021-02-23 07:35:00          -0.002941  0.010303\n",
       "2021-02-23 07:05:00 2021-02-23 07:35:00          -0.000994  0.000000\n",
       "2021-02-23 07:35:00 2021-02-23 08:05:00           0.000015 -0.017285\n",
       "...                                 ...                ...       ...\n",
       "2022-06-16 00:20:00 2022-06-16 00:35:00           0.001498  0.000000\n",
       "2022-06-16 00:35:00 2022-06-16 01:05:00           0.001825  0.000000\n",
       "2022-06-16 01:05:00 2022-06-16 01:20:00          -0.000897  0.000000\n",
       "2022-06-16 01:20:00 2022-06-16 01:50:00          -0.002697  0.000000\n",
       "2022-06-16 01:50:00                 NaT                NaN  0.000000\n",
       "\n",
       "[20364 rows x 3 columns]"
      ]
     },
     "execution_count": 4,
     "metadata": {},
     "output_type": "execute_result"
    }
   ],
   "source": [
    "df=pd.read_parquet('df_for_backtest')\n",
    "df\n",
    "\n",
    "\"\"\"\n",
    "y_buy:Realized returns from a long position by a primary model\n",
    "y_pred_buy_by_pcv:Predicted returns of a primary model by a ML model\n",
    "\n",
    "\"\"\""
   ]
  },
  {
   "cell_type": "code",
   "execution_count": 5,
   "id": "4f15f32d",
   "metadata": {},
   "outputs": [
    {
     "data": {
      "text/plain": [
       "<AxesSubplot:xlabel='timestamp'>"
      ]
     },
     "execution_count": 5,
     "metadata": {},
     "output_type": "execute_result"
    },
    {
     "data": {
      "image/png": "[encoded data removed]",
      "text/plain": [
       "<Figure size 432x288 with 1 Axes>"
      ]
     },
     "metadata": {
      "needs_background": "light"
     },
     "output_type": "display_data"
    }
   ],
   "source": [
    "ret_realized_ind=backtest(df,side='y_pred_buy_by_pcv',period=2,exit_date='buy_exit_date')\n",
    "df.loc[ret_realized_ind,'y_buy'].cumsum().plot()"
   ]
  }
 ],
 "metadata": {
  "kernelspec": {
   "display_name": "Python 3 (ipykernel)",
   "language": "python",
   "name": "python3"
  },
  "language_info": {
   "codemirror_mode": {
    "name": "ipython",
    "version": 3
   },
   "file_extension": ".py",
   "mimetype": "text/x-python",
   "name": "python",
   "nbconvert_exporter": "python",
   "pygments_lexer": "ipython3",
   "version": "3.8.10"
  }
 },
 "nbformat": 4,
 "nbformat_minor": 5
}
